{
 "cells": [
  {
   "cell_type": "code",
   "execution_count": 56,
   "id": "8c23d4d1",
   "metadata": {},
   "outputs": [],
   "source": [
    "import requests\n",
    "\n",
    "\n",
    "class Orders:\n",
    "    def __init__(self, base_url, endpoint, params):\n",
    "        self.base_url = base_url\n",
    "        self.endpoint = endpoint\n",
    "        self.cursor = \"\"\n",
    "        self.orders = []\n",
    "        self.params = params\n",
    "\n",
    "    def get_main_session(self):\n",
    "        session = requests.get(\n",
    "            f\"{self.base_url}{self.endpoint}?cursor={self.cursor}\", params=self.params\n",
    "        )\n",
    "        session.raise_for_status()\n",
    "        return session.json()\n",
    "\n",
    "    def cursor_helper(self):\n",
    "        pass\n",
    "\n",
    "\n",
    "query_params = {\"sell_token_address\": \"0xacb3c6a43d15b907e8433077b6d38ae40936fe2c\"} \n",
    "\n"
   ]
  },
  {
   "cell_type": "code",
   "execution_count": 57,
   "id": "5e75fe77",
   "metadata": {},
   "outputs": [],
   "source": [
    "gods_orders = Orders(\"https://api.x.immutable.com/v3/\", \"orders\", query_params)\n",
    "\n"
   ]
  },
  {
   "cell_type": "code",
   "execution_count": 58,
   "id": "c3e57825",
   "metadata": {},
   "outputs": [],
   "source": [
    "data = gods_orders.get_main_session()\n",
    "orders = []\n",
    "\n",
    "for element in data[\"result\"]:\n",
    "    updated_timestamp = element[\"timestamp\"].split(\"T\")[0]\n",
    "    status = element[\"status\"]\n",
    "    user = element[\"user\"]\n",
    "    sell_asset = element[\"sell\"][\"data\"][\"properties\"][\"name\"]\n",
    "    buy_type = element[\"buy\"][\"type\"]\n",
    "    buy_quantity = float(element[\"buy\"][\"data\"][\"quantity\"])/ 10**float(element[\"buy\"][\"data\"][\"decimals\"])\n",
    "    \n",
    "    orderer = {\n",
    "        \"timestamp\" : updated_timestamp, \n",
    "        \"status\" : status, \n",
    "        \"user\" : user, \n",
    "        \"sell_asset\" : sell_asset, \n",
    "        \"buy_type\" : buy_type, \n",
    "        \"buy_quantity\" : buy_quantity \n",
    "    }\n",
    "    \n",
    "    orders.append(orderer)\n",
    "    \n",
    "    \n",
    "    \n",
    "    \n",
    "    "
   ]
  },
  {
   "cell_type": "code",
   "execution_count": 59,
   "id": "eaee825f",
   "metadata": {},
   "outputs": [
    {
     "name": "stdout",
     "output_type": "stream",
     "text": [
      "[{'timestamp': '2023-07-18', 'status': 'active', 'user': '0xdc7e97b655562f2ac8c436bd97dea59045af2747', 'sell_asset': 'Big Bony Bastard', 'buy_type': 'ETH', 'buy_quantity': 8.4712e-06}, {'timestamp': '2023-07-18', 'status': 'active', 'user': '0xa90ed331c45824ce74d29a2c473f7b330eb4ba6f', 'sell_asset': 'Twenty Sided Mace', 'buy_type': 'ERC20', 'buy_quantity': 1.0911009}, {'timestamp': '2023-07-18', 'status': 'active', 'user': '0xe4390b9cf45348a503f53f86c944fee82b4a1c0d', 'sell_asset': 'Netherswarm Lord', 'buy_type': 'ERC20', 'buy_quantity': 13.404}, {'timestamp': '2023-07-18', 'status': 'active', 'user': '0xe4390b9cf45348a503f53f86c944fee82b4a1c0d', 'sell_asset': 'Echophon, Atlantean Hydra', 'buy_type': 'ERC20', 'buy_quantity': 1.055}, {'timestamp': '2023-07-18', 'status': 'active', 'user': '0xe4390b9cf45348a503f53f86c944fee82b4a1c0d', 'sell_asset': 'Undead Chimera', 'buy_type': 'ERC20', 'buy_quantity': 0.652}, {'timestamp': '2023-07-18', 'status': 'active', 'user': '0xe4390b9cf45348a503f53f86c944fee82b4a1c0d', 'sell_asset': 'Netherswarm Lord', 'buy_type': 'ERC20', 'buy_quantity': 13.404}, {'timestamp': '2023-07-18', 'status': 'active', 'user': '0xe4390b9cf45348a503f53f86c944fee82b4a1c0d', 'sell_asset': 'Radiant Dawn', 'buy_type': 'ERC20', 'buy_quantity': 0.589}, {'timestamp': '2023-07-18', 'status': 'active', 'user': '0xa668b9f6baf0893e4981ccf364ca3fa8d5388129', 'sell_asset': 'Helios Justicar', 'buy_type': 'ERC20', 'buy_quantity': 5.168956}, {'timestamp': '2023-07-18', 'status': 'active', 'user': '0xdc7e97b655562f2ac8c436bd97dea59045af2747', 'sell_asset': 'Beached Colossus', 'buy_type': 'ETH', 'buy_quantity': 8.5123e-06}, {'timestamp': '2023-07-18', 'status': 'active', 'user': '0x24edfcc8240f0f54f648da5cb87102f2e085e51d', 'sell_asset': 'Plague Talisman', 'buy_type': 'ERC20', 'buy_quantity': 0.4656835}, {'timestamp': '2023-07-18', 'status': 'active', 'user': '0x24edfcc8240f0f54f648da5cb87102f2e085e51d', 'sell_asset': 'Lore & Order Inspector', 'buy_type': 'ERC20', 'buy_quantity': 5.9402693}, {'timestamp': '2023-07-18', 'status': 'active', 'user': '0xa668b9f6baf0893e4981ccf364ca3fa8d5388129', 'sell_asset': 'Lips Are Sealed', 'buy_type': 'ETH', 'buy_quantity': 9.4289e-05}, {'timestamp': '2023-07-18', 'status': 'active', 'user': '0x24edfcc8240f0f54f648da5cb87102f2e085e51d', 'sell_asset': 'Pallbearer', 'buy_type': 'ERC20', 'buy_quantity': 9.9475857}, {'timestamp': '2023-07-18', 'status': 'active', 'user': '0xdc7e97b655562f2ac8c436bd97dea59045af2747', 'sell_asset': 'Big Bony Bastard', 'buy_type': 'ETH', 'buy_quantity': 8.5651e-06}, {'timestamp': '2023-07-18', 'status': 'active', 'user': '0x29e275d987230bf3b14b60cf8e07a1284ffc6f1a', 'sell_asset': 'Twenty Sided Mace', 'buy_type': 'ERC20', 'buy_quantity': 1.0912101}, {'timestamp': '2023-07-18', 'status': 'active', 'user': '0x24edfcc8240f0f54f648da5cb87102f2e085e51d', 'sell_asset': 'Blazing Talisman', 'buy_type': 'ERC20', 'buy_quantity': 24.6543362}, {'timestamp': '2023-07-18', 'status': 'active', 'user': '0x847261fb70455dec3c680c8d7d9bec4dafcc33a8', 'sell_asset': 'Scorched Seeker', 'buy_type': 'ETH', 'buy_quantity': 7e-06}, {'timestamp': '2023-07-18', 'status': 'active', 'user': '0x24edfcc8240f0f54f648da5cb87102f2e085e51d', 'sell_asset': 'Blazing Talisman', 'buy_type': 'ERC20', 'buy_quantity': 24.6543362}, {'timestamp': '2023-07-18', 'status': 'active', 'user': '0xdc7e97b655562f2ac8c436bd97dea59045af2747', 'sell_asset': 'Excitable Evangelist', 'buy_type': 'ETH', 'buy_quantity': 9.0315e-06}, {'timestamp': '2023-07-18', 'status': 'active', 'user': '0x24edfcc8240f0f54f648da5cb87102f2e085e51d', 'sell_asset': 'Crimson Oni', 'buy_type': 'ERC20', 'buy_quantity': 3.504734}, {'timestamp': '2023-07-18', 'status': 'active', 'user': '0x24edfcc8240f0f54f648da5cb87102f2e085e51d', 'sell_asset': 'Defend the Ramparts', 'buy_type': 'ERC20', 'buy_quantity': 7.0068755}, {'timestamp': '2023-07-18', 'status': 'active', 'user': '0x24edfcc8240f0f54f648da5cb87102f2e085e51d', 'sell_asset': 'Excommunicate', 'buy_type': 'ERC20', 'buy_quantity': 0.9826}, {'timestamp': '2023-07-18', 'status': 'active', 'user': '0x24edfcc8240f0f54f648da5cb87102f2e085e51d', 'sell_asset': 'Excommunicate', 'buy_type': 'ERC20', 'buy_quantity': 1.5517534}, {'timestamp': '2023-07-18', 'status': 'active', 'user': '0xa90ed331c45824ce74d29a2c473f7b330eb4ba6f', 'sell_asset': 'Wolf-Cult Vanguard', 'buy_type': 'ERC20', 'buy_quantity': 3.0095909}, {'timestamp': '2023-07-18', 'status': 'active', 'user': '0x24edfcc8240f0f54f648da5cb87102f2e085e51d', 'sell_asset': 'Tenderizer', 'buy_type': 'ERC20', 'buy_quantity': 11.4718147}, {'timestamp': '2023-07-18', 'status': 'active', 'user': '0xdc7e97b655562f2ac8c436bd97dea59045af2747', 'sell_asset': 'Ecclesiastic Encourager', 'buy_type': 'ETH', 'buy_quantity': 6.5818e-06}, {'timestamp': '2023-07-18', 'status': 'active', 'user': '0x24edfcc8240f0f54f648da5cb87102f2e085e51d', 'sell_asset': 'Tenderizer', 'buy_type': 'ERC20', 'buy_quantity': 11.4718147}, {'timestamp': '2023-07-18', 'status': 'active', 'user': '0xa668b9f6baf0893e4981ccf364ca3fa8d5388129', 'sell_asset': 'Surprise Delivery', 'buy_type': 'ERC20', 'buy_quantity': 240.621858515}, {'timestamp': '2023-07-18', 'status': 'active', 'user': '0x24edfcc8240f0f54f648da5cb87102f2e085e51d', 'sell_asset': 'Mercenary Daemon', 'buy_type': 'ERC20', 'buy_quantity': 1.7503809}, {'timestamp': '2023-07-18', 'status': 'active', 'user': '0xdc7e97b655562f2ac8c436bd97dea59045af2747', 'sell_asset': \"Valka's Favored\", 'buy_type': 'ETH', 'buy_quantity': 6.8496e-06}, {'timestamp': '2023-07-18', 'status': 'active', 'user': '0x24edfcc8240f0f54f648da5cb87102f2e085e51d', 'sell_asset': 'Inexorable Raider', 'buy_type': 'ERC20', 'buy_quantity': 0.3576727}, {'timestamp': '2023-07-18', 'status': 'active', 'user': '0x29e275d987230bf3b14b60cf8e07a1284ffc6f1a', 'sell_asset': 'Wolf-Cult Vanguard', 'buy_type': 'ERC20', 'buy_quantity': 3.0098919}, {'timestamp': '2023-07-18', 'status': 'active', 'user': '0x24edfcc8240f0f54f648da5cb87102f2e085e51d', 'sell_asset': 'Harrowing Visions', 'buy_type': 'ERC20', 'buy_quantity': 0.2975559}, {'timestamp': '2023-07-18', 'status': 'active', 'user': '0x24edfcc8240f0f54f648da5cb87102f2e085e51d', 'sell_asset': 'Echoing Fury', 'buy_type': 'ERC20', 'buy_quantity': 2.0446751}, {'timestamp': '2023-07-18', 'status': 'active', 'user': '0x24edfcc8240f0f54f648da5cb87102f2e085e51d', 'sell_asset': 'Triage Necromancer', 'buy_type': 'ERC20', 'buy_quantity': 30.9674012}, {'timestamp': '2023-07-18', 'status': 'active', 'user': '0x24edfcc8240f0f54f648da5cb87102f2e085e51d', 'sell_asset': 'Guardian Simulacrum', 'buy_type': 'ERC20', 'buy_quantity': 7.9439252}, {'timestamp': '2023-07-18', 'status': 'active', 'user': '0x24edfcc8240f0f54f648da5cb87102f2e085e51d', 'sell_asset': 'Demolitions Expert', 'buy_type': 'ERC20', 'buy_quantity': 1.4574687}, {'timestamp': '2023-07-18', 'status': 'active', 'user': '0xdc7e97b655562f2ac8c436bd97dea59045af2747', 'sell_asset': 'Mutual Hatred', 'buy_type': 'ETH', 'buy_quantity': 9.3809e-06}, {'timestamp': '2023-07-18', 'status': 'active', 'user': '0xdc7e97b655562f2ac8c436bd97dea59045af2747', 'sell_asset': 'Augur Optimist', 'buy_type': 'ETH', 'buy_quantity': 8.8324e-06}, {'timestamp': '2023-07-18', 'status': 'active', 'user': '0x24edfcc8240f0f54f648da5cb87102f2e085e51d', 'sell_asset': 'Hunting Trap', 'buy_type': 'ERC20', 'buy_quantity': 1.5937389}, {'timestamp': '2023-07-18', 'status': 'active', 'user': '0x24edfcc8240f0f54f648da5cb87102f2e085e51d', 'sell_asset': 'Hunting Trap', 'buy_type': 'ERC20', 'buy_quantity': 1.5937389}, {'timestamp': '2023-07-18', 'status': 'active', 'user': '0xa90ed331c45824ce74d29a2c473f7b330eb4ba6f', 'sell_asset': 'Felid Janissary', 'buy_type': 'ERC20', 'buy_quantity': 1.868313}, {'timestamp': '2023-07-18', 'status': 'active', 'user': '0x24edfcc8240f0f54f648da5cb87102f2e085e51d', 'sell_asset': 'Entrapment Apparatus', 'buy_type': 'ERC20', 'buy_quantity': 0.812187}, {'timestamp': '2023-07-18', 'status': 'active', 'user': '0x24edfcc8240f0f54f648da5cb87102f2e085e51d', 'sell_asset': 'Guerilla Sabotage', 'buy_type': 'ERC20', 'buy_quantity': 0.8333928}, {'timestamp': '2023-07-18', 'status': 'active', 'user': '0xa668b9f6baf0893e4981ccf364ca3fa8d5388129', 'sell_asset': 'Bar Fight', 'buy_type': 'ERC20', 'buy_quantity': 1.083492699}, {'timestamp': '2023-07-18', 'status': 'active', 'user': '0xdc7e97b655562f2ac8c436bd97dea59045af2747', 'sell_asset': 'Looting Squire', 'buy_type': 'ETH', 'buy_quantity': 7.7666e-06}, {'timestamp': '2023-07-18', 'status': 'active', 'user': '0x24edfcc8240f0f54f648da5cb87102f2e085e51d', 'sell_asset': 'Guerilla Sabotage', 'buy_type': 'ERC20', 'buy_quantity': 0.1869404}, {'timestamp': '2023-07-18', 'status': 'active', 'user': '0x24edfcc8240f0f54f648da5cb87102f2e085e51d', 'sell_asset': 'Stoneskin Poison', 'buy_type': 'ERC20', 'buy_quantity': 1.2338429}, {'timestamp': '2023-07-18', 'status': 'active', 'user': '0x24edfcc8240f0f54f648da5cb87102f2e085e51d', 'sell_asset': 'Reformation', 'buy_type': 'ERC20', 'buy_quantity': 0.8991}, {'timestamp': '2023-07-18', 'status': 'active', 'user': '0x24edfcc8240f0f54f648da5cb87102f2e085e51d', 'sell_asset': 'Corpse Explosion', 'buy_type': 'ERC20', 'buy_quantity': 0.229182}, {'timestamp': '2023-07-18', 'status': 'active', 'user': '0xa90ed331c45824ce74d29a2c473f7b330eb4ba6f', 'sell_asset': 'Prophet of Doom', 'buy_type': 'ETH', 'buy_quantity': 6.19e-05}, {'timestamp': '2023-07-18', 'status': 'active', 'user': '0xdc7e97b655562f2ac8c436bd97dea59045af2747', 'sell_asset': 'Aetheric Repulsor', 'buy_type': 'ETH', 'buy_quantity': 7.9786e-06}, {'timestamp': '2023-07-18', 'status': 'active', 'user': '0x29e275d987230bf3b14b60cf8e07a1284ffc6f1a', 'sell_asset': 'Felid Janissary', 'buy_type': 'ERC20', 'buy_quantity': 1.8684999}, {'timestamp': '2023-07-18', 'status': 'active', 'user': '0x24edfcc8240f0f54f648da5cb87102f2e085e51d', 'sell_asset': 'Radiant Dawn', 'buy_type': 'ERC20', 'buy_quantity': 0.58941}, {'timestamp': '2023-07-18', 'status': 'active', 'user': '0x24edfcc8240f0f54f648da5cb87102f2e085e51d', 'sell_asset': 'Undead Chimera', 'buy_type': 'ERC20', 'buy_quantity': 2.302695}, {'timestamp': '2023-07-18', 'status': 'active', 'user': '0x24edfcc8240f0f54f648da5cb87102f2e085e51d', 'sell_asset': \"Valka's Discovery\", 'buy_type': 'ERC20', 'buy_quantity': 0.76585}, {'timestamp': '2023-07-18', 'status': 'active', 'user': '0x709ff7d0d886d7fd6f99cd6cb22523d4a57be42c', 'sell_asset': 'Prophet of Doom', 'buy_type': 'ETH', 'buy_quantity': 6.2e-05}, {'timestamp': '2023-07-18', 'status': 'active', 'user': '0x24edfcc8240f0f54f648da5cb87102f2e085e51d', 'sell_asset': 'Enchanted Vines', 'buy_type': 'ERC20', 'buy_quantity': 4.676883}, {'timestamp': '2023-07-18', 'status': 'active', 'user': '0xa90ed331c45824ce74d29a2c473f7b330eb4ba6f', 'sell_asset': 'Echophon, Atlantean Hydra', 'buy_type': 'ERC20', 'buy_quantity': 1.0558944}, {'timestamp': '2023-07-18', 'status': 'active', 'user': '0x24edfcc8240f0f54f648da5cb87102f2e085e51d', 'sell_asset': 'Necroscepter', 'buy_type': 'ERC20', 'buy_quantity': 6.924069}, {'timestamp': '2023-07-18', 'status': 'active', 'user': '0xdc7e97b655562f2ac8c436bd97dea59045af2747', 'sell_asset': \"The Fox's Venture\", 'buy_type': 'ETH', 'buy_quantity': 6.5175e-06}, {'timestamp': '2023-07-18', 'status': 'active', 'user': '0x24edfcc8240f0f54f648da5cb87102f2e085e51d', 'sell_asset': 'Necroscepter', 'buy_type': 'ERC20', 'buy_quantity': 29.918052}, {'timestamp': '2023-07-18', 'status': 'active', 'user': '0x24edfcc8240f0f54f648da5cb87102f2e085e51d', 'sell_asset': 'Primal Guidance', 'buy_type': 'ERC20', 'buy_quantity': 4.051944}, {'timestamp': '2023-07-18', 'status': 'active', 'user': '0x24edfcc8240f0f54f648da5cb87102f2e085e51d', 'sell_asset': 'Penthesilean Warrior', 'buy_type': 'ERC20', 'buy_quantity': 1.1285052}, {'timestamp': '2023-07-18', 'status': 'active', 'user': '0x24edfcc8240f0f54f648da5cb87102f2e085e51d', 'sell_asset': \"Fir Tree's Fury\", 'buy_type': 'ERC20', 'buy_quantity': 3.462534}, {'timestamp': '2023-07-18', 'status': 'active', 'user': '0xdc7e97b655562f2ac8c436bd97dea59045af2747', 'sell_asset': \"Light's Altruist\", 'buy_type': 'ETH', 'buy_quantity': 8.5846e-06}, {'timestamp': '2023-07-18', 'status': 'active', 'user': '0x24edfcc8240f0f54f648da5cb87102f2e085e51d', 'sell_asset': 'The Academy of Mystic Arts', 'buy_type': 'ERC20', 'buy_quantity': 2.360637}, {'timestamp': '2023-07-18', 'status': 'cancelled', 'user': '0xe4390b9cf45348a503f53f86c944fee82b4a1c0d', 'sell_asset': 'Echophon, Atlantean Hydra', 'buy_type': 'ERC20', 'buy_quantity': 1.056}, {'timestamp': '2023-07-18', 'status': 'active', 'user': '0x24edfcc8240f0f54f648da5cb87102f2e085e51d', 'sell_asset': 'The Academy of Mystic Arts', 'buy_type': 'ERC20', 'buy_quantity': 0.5202323}, {'timestamp': '2023-07-18', 'status': 'active', 'user': '0x24edfcc8240f0f54f648da5cb87102f2e085e51d', 'sell_asset': 'Asterius, Glittering One', 'buy_type': 'ERC20', 'buy_quantity': 7.851141}, {'timestamp': '2023-07-18', 'status': 'active', 'user': '0x24edfcc8240f0f54f648da5cb87102f2e085e51d', 'sell_asset': 'Netherswarm Lord', 'buy_type': 'ERC20', 'buy_quantity': 3.391605}, {'timestamp': '2023-07-18', 'status': 'active', 'user': '0x24edfcc8240f0f54f648da5cb87102f2e085e51d', 'sell_asset': 'Rolling Watcher', 'buy_type': 'ERC20', 'buy_quantity': 3.4416493}, {'timestamp': '2023-07-18', 'status': 'active', 'user': '0xdc7e97b655562f2ac8c436bd97dea59045af2747', 'sell_asset': 'Albino Hydra', 'buy_type': 'ETH', 'buy_quantity': 9.755e-06}, {'timestamp': '2023-07-18', 'status': 'active', 'user': '0x24edfcc8240f0f54f648da5cb87102f2e085e51d', 'sell_asset': 'Entrapment Apparatus', 'buy_type': 'ERC20', 'buy_quantity': 3.2438199}, {'timestamp': '2023-07-18', 'status': 'active', 'user': '0x24edfcc8240f0f54f648da5cb87102f2e085e51d', 'sell_asset': 'Vile Reaver', 'buy_type': 'ERC20', 'buy_quantity': 1.4436603}, {'timestamp': '2023-07-18', 'status': 'active', 'user': '0x24edfcc8240f0f54f648da5cb87102f2e085e51d', 'sell_asset': 'Penthesilean Warrior', 'buy_type': 'ERC20', 'buy_quantity': 1.1285052}, {'timestamp': '2023-07-18', 'status': 'active', 'user': '0x24edfcc8240f0f54f648da5cb87102f2e085e51d', 'sell_asset': 'Canonize', 'buy_type': 'ERC20', 'buy_quantity': 1.250748}, {'timestamp': '2023-07-18', 'status': 'active', 'user': '0xdc7e97b655562f2ac8c436bd97dea59045af2747', 'sell_asset': 'Excitable Evangelist', 'buy_type': 'ETH', 'buy_quantity': 8.5017e-06}, {'timestamp': '2023-07-18', 'status': 'active', 'user': '0x24edfcc8240f0f54f648da5cb87102f2e085e51d', 'sell_asset': 'Canonize', 'buy_type': 'ERC20', 'buy_quantity': 4.4955}, {'timestamp': '2023-07-18', 'status': 'active', 'user': '0x24edfcc8240f0f54f648da5cb87102f2e085e51d', 'sell_asset': 'Untold Greed', 'buy_type': 'ERC20', 'buy_quantity': 19.339641}, {'timestamp': '2023-07-18', 'status': 'active', 'user': '0x24edfcc8240f0f54f648da5cb87102f2e085e51d', 'sell_asset': 'Canonize', 'buy_type': 'ERC20', 'buy_quantity': 1.250748}, {'timestamp': '2023-07-18', 'status': 'active', 'user': '0xa668b9f6baf0893e4981ccf364ca3fa8d5388129', 'sell_asset': 'The Plague', 'buy_type': 'ETH', 'buy_quantity': 9.7414e-05}, {'timestamp': '2023-07-18', 'status': 'active', 'user': '0x24edfcc8240f0f54f648da5cb87102f2e085e51d', 'sell_asset': 'Pan Marauder', 'buy_type': 'ERC20', 'buy_quantity': 3.0614809}, {'timestamp': '2023-07-18', 'status': 'active', 'user': '0x24edfcc8240f0f54f648da5cb87102f2e085e51d', 'sell_asset': 'Pan Marauder', 'buy_type': 'ERC20', 'buy_quantity': 3.0614809}, {'timestamp': '2023-07-18', 'status': 'active', 'user': '0x24edfcc8240f0f54f648da5cb87102f2e085e51d', 'sell_asset': \"Apep's Doomcaller\", 'buy_type': 'ERC20', 'buy_quantity': 0.6443519}, {'timestamp': '2023-07-18', 'status': 'active', 'user': '0x24edfcc8240f0f54f648da5cb87102f2e085e51d', 'sell_asset': \"Apep's Doomcaller\", 'buy_type': 'ERC20', 'buy_quantity': 0.6443519}, {'timestamp': '2023-07-18', 'status': 'active', 'user': '0xdc7e97b655562f2ac8c436bd97dea59045af2747', 'sell_asset': 'Excitable Evangelist', 'buy_type': 'ETH', 'buy_quantity': 9.288e-06}, {'timestamp': '2023-07-18', 'status': 'active', 'user': '0x29e275d987230bf3b14b60cf8e07a1284ffc6f1a', 'sell_asset': 'Guild Enforcer', 'buy_type': 'ERC20', 'buy_quantity': 1.643984}, {'timestamp': '2023-07-18', 'status': 'active', 'user': '0x24edfcc8240f0f54f648da5cb87102f2e085e51d', 'sell_asset': 'Reios, The Old Wolf', 'buy_type': 'ERC20', 'buy_quantity': 52.7923672}, {'timestamp': '2023-07-18', 'status': 'active', 'user': '0x24edfcc8240f0f54f648da5cb87102f2e085e51d', 'sell_asset': 'Fae Thornblade', 'buy_type': 'ERC20', 'buy_quantity': 12.7320017}, {'timestamp': '2023-07-18', 'status': 'active', 'user': '0x9cd22697040a5c86ccb4b4949c21a0d472396a6a', 'sell_asset': 'Dead Body Guard', 'buy_type': 'ETH', 'buy_quantity': 0.000376}, {'timestamp': '2023-07-18', 'status': 'active', 'user': '0xdc7e97b655562f2ac8c436bd97dea59045af2747', 'sell_asset': 'Odds and Ends Dealer', 'buy_type': 'ETH', 'buy_quantity': 8.8414e-06}, {'timestamp': '2023-07-18', 'status': 'active', 'user': '0x24edfcc8240f0f54f648da5cb87102f2e085e51d', 'sell_asset': 'Mugging', 'buy_type': 'ERC20', 'buy_quantity': 9.3290579}, {'timestamp': '2023-07-18', 'status': 'active', 'user': '0x24edfcc8240f0f54f648da5cb87102f2e085e51d', 'sell_asset': 'Mugging', 'buy_type': 'ERC20', 'buy_quantity': 6.5034257}, {'timestamp': '2023-07-18', 'status': 'active', 'user': '0x24edfcc8240f0f54f648da5cb87102f2e085e51d', 'sell_asset': 'Mugging', 'buy_type': 'ERC20', 'buy_quantity': 6.5034257}, {'timestamp': '2023-07-18', 'status': 'active', 'user': '0xa668b9f6baf0893e4981ccf364ca3fa8d5388129', 'sell_asset': 'Academy Pyromaniac', 'buy_type': 'ERC20', 'buy_quantity': 13.2703005}, {'timestamp': '2023-07-18', 'status': 'active', 'user': '0x24edfcc8240f0f54f648da5cb87102f2e085e51d', 'sell_asset': 'Catacomb Curator', 'buy_type': 'ERC20', 'buy_quantity': 0.6146677}, {'timestamp': '2023-07-18', 'status': 'active', 'user': '0xdc7e97b655562f2ac8c436bd97dea59045af2747', 'sell_asset': 'Big Bony Bastard', 'buy_type': 'ETH', 'buy_quantity': 6.9065e-06}, {'timestamp': '2023-07-18', 'status': 'active', 'user': '0x24edfcc8240f0f54f648da5cb87102f2e085e51d', 'sell_asset': 'Catacomb Curator', 'buy_type': 'ERC20', 'buy_quantity': 1.9652969}, {'timestamp': '2023-07-18', 'status': 'active', 'user': '0xa668b9f6baf0893e4981ccf364ca3fa8d5388129', 'sell_asset': \"Librarian's Prayer\", 'buy_type': 'ETH', 'buy_quantity': 0.000181907}]\n"
     ]
    }
   ],
   "source": [
    "print(orders) "
   ]
  },
  {
   "cell_type": "code",
   "execution_count": null,
   "id": "6dbc56b4",
   "metadata": {},
   "outputs": [],
   "source": []
  }
 ],
 "metadata": {
  "kernelspec": {
   "display_name": "Python 3 (ipykernel)",
   "language": "python",
   "name": "python3"
  },
  "language_info": {
   "codemirror_mode": {
    "name": "ipython",
    "version": 3
   },
   "file_extension": ".py",
   "mimetype": "text/x-python",
   "name": "python",
   "nbconvert_exporter": "python",
   "pygments_lexer": "ipython3",
   "version": "3.9.13"
  }
 },
 "nbformat": 4,
 "nbformat_minor": 5
}
